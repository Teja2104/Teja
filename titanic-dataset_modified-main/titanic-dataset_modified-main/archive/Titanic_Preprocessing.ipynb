{
 "cells": [
  {
   "cell_type": "markdown",
   "id": "678939fd",
   "metadata": {},
   "source": [
    "# Titanic Dataset - Data Cleaning & Preprocessing\n",
    "This notebook performs preprocessing on the Titanic dataset as per the internship task:\n",
    "- Handle missing values\n",
    "- Encode categorical variables\n",
    "- Normalize numerical features\n",
    "- Remove outliers\n",
    "\n",
    "We'll prepare the dataset for machine learning."
   ]
  },
  {
   "cell_type": "code",
   "execution_count": null,
   "id": "5555a0a2",
   "metadata": {},
   "outputs": [],
   "source": [
    "import pandas as pd\n",
    "import numpy as np\n",
    "import seaborn as sns\n",
    "import matplotlib.pyplot as plt\n",
    "from sklearn.preprocessing import LabelEncoder, StandardScaler"
   ]
  },
  {
   "cell_type": "markdown",
   "id": "839cb220",
   "metadata": {},
   "source": []
  },
  {
   "cell_type": "code",
   "execution_count": null,
   "id": "d961f5b0",
   "metadata": {},
   "outputs": [],
   "source": [
    "\n",
    "df = pd.read_csv(\"Titanic-Dataset.csv\")\n",
    "df.head()"
   ]
  },
  {
   "cell_type": "code",
   "execution_count": null,
   "id": "ee18c4b1",
   "metadata": {},
   "outputs": [],
   "source": [
    "\n",
    "df.info()\n",
    "\n",
    "df.isnull().sum()"
   ]
  },
  {
   "cell_type": "code",
   "execution_count": null,
   "id": "8ba1b581",
   "metadata": {},
   "outputs": [],
   "source": [
    "\n",
    "df['Age'].fillna(df['Age'].median(), inplace=True)\n",
    "df['Embarked'].fillna(df['Embarked'].mode()[0], inplace=True)\n",
    "df.drop(columns=['Cabin'], inplace=True)"
   ]
  },
  {
   "cell_type": "code",
   "execution_count": null,
   "id": "1a3aa742",
   "metadata": {},
   "outputs": [],
   "source": [
    "\n",
    "df.drop(columns=['Name', 'Ticket'], inplace=True)"
   ]
  },
  {
   "cell_type": "code",
   "execution_count": null,
   "id": "3e5724b2",
   "metadata": {},
   "outputs": [],
   "source": [
    "\n",
    "le = LabelEncoder()\n",
    "df['Sex'] = le.fit_transform(df['Sex'])  \n",
    "df = pd.get_dummies(df, columns=['Embarked'], drop_first=True)"
   ]
  },
  {
   "cell_type": "code",
   "execution_count": null,
   "id": "0eeec8bf",
   "metadata": {},
   "outputs": [],
   "source": [
    "scaler = StandardScaler()\n",
    "df[['Age', 'Fare']] = scaler.fit_transform(df[['Age', 'Fare']])"
   ]
  },
  {
   "cell_type": "code",
   "execution_count": null,
   "id": "97ce4cd1",
   "metadata": {},
   "outputs": [],
   "source": [
    "for col in ['Age', 'Fare', 'SibSp', 'Parch']:\n",
    "    sns.boxplot(x=df[col])\n",
    "    plt.title(f'Boxplot of {col}')\n",
    "    plt.show()"
   ]
  },
  {
   "cell_type": "code",
   "execution_count": null,
   "id": "46a9d5d1",
   "metadata": {},
   "outputs": [],
   "source": [
    "Q1 = df[['Age', 'Fare', 'SibSp', 'Parch']].quantile(0.25)\n",
    "Q3 = df[['Age', 'Fare', 'SibSp', 'Parch']].quantile(0.75)\n",
    "IQR = Q3 - Q1\n",
    "\n",
    "df = df[~((df[['Age', 'Fare', 'SibSp', 'Parch']] < (Q1 - 1.5 * IQR)) | \n",
    "          (df[['Age', 'Fare', 'SibSp', 'Parch']] > (Q3 + 1.5 * IQR))).any(axis=1)]"
   ]
  },
  {
   "cell_type": "code",
   "execution_count": null,
   "id": "606b14d9",
   "metadata": {},
   "outputs": [],
   "source": [
    "\n",
    "df.head()\n",
    "\n",
    "print(\"Final shape:\", df.shape)\n",
    "df.to_csv(\"Titanic-Dataset-CLEANED.csv\", index=False)"
   ]
  }
 ],
 "metadata": {
  "language_info": {
   "name": "python"
  }
 },
 "nbformat": 4,
 "nbformat_minor": 5
}
